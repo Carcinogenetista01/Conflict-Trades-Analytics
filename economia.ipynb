import pandas as pd
import numpy as np
import matplotlib.pyplot as plt
import seaborn as sns

# Extraccion y perfilado de datos

print("Cargando datos de crecimiento del PIB...")
file_path_gdp = 'OECD.ECO.MAD,DSD_EO_116@DF_EO_116,1.0+CHL+TUR+GRC+ISR.GDPV_ANNPCT.A.csv'

try:
    df_gdp = pd.read_csv(file_path_gdp)
    print(f"Datos de '{file_path_gdp}' cargados con exito.")
except FileNotFoundError:
    print(f"Error: El archivo '{file_path_gdp}' no fue encontrado. Asegurate de que este en la ruta correcta.")
    exit()

print("### Perfilado de Datos")
df_gdp.info()
print(df_gdp.head())
df_gdp['OBS_VALUE'] = pd.to_numeric(df_gdp['OBS_VALUE'], errors='coerce')
print(df_gdp.describe())
print("Porcentaje de datos faltantes:\n", (df_gdp.isnull().sum() / len(df_gdp)) * 100)

print("\n### Deteccion de Patrones")
print("Patron: crecimiento del PIB por pais y año.")

# Limpieza de datos

print("\n### Limpieza de Datos")

df_gdp_cleaned = df_gdp[['Reference area', 'TIME_PERIOD', 'OBS_VALUE']].copy()
df_gdp_cleaned.rename(columns={
    'Reference area': 'Pais',
    'TIME_PERIOD': 'Año',
    'OBS_VALUE': 'Crecimiento_PIB_Anual_Pct'
}, inplace=True)

df_gdp_cleaned.dropna(subset=['Crecimiento_PIB_Anual_Pct'], inplace=True)

Q1_gdp = df_gdp_cleaned['Crecimiento_PIB_Anual_Pct'].quantile(0.25)
Q3_gdp = df_gdp_cleaned['Crecimiento_PIB_Anual_Pct'].quantile(0.75)
IQR_gdp = Q3_gdp - Q1_gdp
lower_bound_gdp = Q1_gdp - 1.5 * IQR_gdp
upper_bound_gdp = Q3_gdp + 1.5 * IQR_gdp

outliers_gdp = df_gdp_cleaned[
    (df_gdp_cleaned['Crecimiento_PIB_Anual_Pct'] < lower_bound_gdp) |
    (df_gdp_cleaned['Crecimiento_PIB_Anual_Pct'] > upper_bound_gdp)
]
if not outliers_gdp.empty:
    print(f"Se detectaron {len(outliers_gdp)} posibles outliers. No se eliminan; representan eventos economicos reales.")
    
df_gdp_cleaned['Año'] = pd.to_numeric(df_gdp_cleaned['Año'], errors='coerce').astype(int)
df_gdp_cleaned['Crecimiento_PIB_Anual_Pct'] = pd.to_numeric(df_gdp_cleaned['Crecimiento_PIB_Anual_Pct'], errors='coerce')
df_gdp_cleaned['Pais'] = df_gdp_cleaned['Pais'].str.strip()

initial_rows_gdp = len(df_gdp_cleaned)
df_gdp_cleaned.drop_duplicates(inplace=True)
print(f"Se eliminaron {initial_rows_gdp - len(df_gdp_cleaned)} duplicados.")

# Preprocesamiento de datos

print("\n### Preprocesamiento de Datos")

df_gdp_cleaned_sorted = df_gdp_cleaned.sort_values(by=['Pais', 'Año'])
df_gdp_cleaned_sorted['Cambio_Crecimiento_PIB'] = df_gdp_cleaned_sorted.groupby('Pais')['Crecimiento_PIB_Anual_Pct'].diff()

# Analisis de datos

print("\n### Analisis de Datos")

print("#### Preguntas de Negocio")

print("\n**1. Crecimiento promedio anual del PIB por pais:**")
avg_gdp_growth_by_country = df_gdp_cleaned_sorted.groupby('Pais')['Crecimiento_PIB_Anual_Pct'].mean().reset_index()
print(avg_gdp_growth_by_country.sort_values(by='Crecimiento_PIB_Anual_Pct', ascending=False).to_markdown(index=False))

print("\n**2. Evolucion del crecimiento del PIB por pais a lo largo de los años:**")
gdp_growth_by_year_country = df_gdp_cleaned_sorted.groupby(['Pais', 'Año'])['Crecimiento_PIB_Anual_Pct'].mean().unstack(fill_value=np.nan)
print(gdp_growth_by_year_country.to_markdown())

latest_year_gdp = df_gdp_cleaned_sorted['Año'].max()
print(f"\n**3. Pais con mayor/menor crecimiento del PIB en {latest_year_gdp}:**")
gdp_latest_year = df_gdp_cleaned_sorted[df_gdp_cleaned_sorted['Año'] == latest_year_gdp]

if not gdp_latest_year.empty:
    highest_gdp_latest = gdp_latest_year.loc[gdp_latest_year['Crecimiento_PIB_Anual_Pct'].idxmax()]
    lowest_gdp_latest = gdp_latest_year.loc[gdp_latest_year['Crecimiento_PIB_Anual_Pct'].idxmin()]
    print(f"Mayor crecimiento: {highest_gdp_latest['Pais']} ({highest_gdp_latest['Crecimiento_PIB_Anual_Pct']:.2f}%)")
    print(f"Menor crecimiento: {lowest_gdp_latest['Pais']} ({lowest_gdp_latest['Crecimiento_PIB_Anual_Pct']:.2f}%)")
else:
    print(f"No hay datos de crecimiento del PIB para el año {latest_year_gdp}.")

print(f"\n**4. Pais con mayor aumento/disminucion en el cambio de crecimiento del PIB anual:**")
df_gdp_change = df_gdp_cleaned_sorted.dropna(subset=['Cambio_Crecimiento_PIB'])

if not df_gdp_change.empty:
    max_increase_gdp_change = df_gdp_change.loc[df_gdp_change['Cambio_Crecimiento_PIB'].idxmax()]
    max_decrease_gdp_change = df_gdp_change.loc[df_gdp_change['Cambio_Crecimiento_PIB'].idxmin()]
    print(f"Mayor subida: {max_increase_gdp_change['Pais']} de {int(max_increase_gdp_change['Año'] - 1)} a {int(max_increase_gdp_change['Año'])} (+{max_increase_gdp_change['Cambio_Crecimiento_PIB']:.2f} p.p.)")
    print(f"Mayor bajada: {max_decrease_gdp_change['Pais']} de {int(max_decrease_gdp_change['Año'] - 1)} a {int(max_decrease_gdp_change['Año'])} ({max_decrease_gdp_change['Cambio_Crecimiento_PIB']:.2f} p.p.)")
else:
    print("No hay suficientes datos para calcular el cambio en el crecimiento del PIB.")

gdp_2026 = df_gdp_cleaned_sorted[df_gdp_cleaned_sorted['Año'] == 2026]
if not gdp_2026.empty:
    avg_gdp_2026 = gdp_2026['Crecimiento_PIB_Anual_Pct'].mean()
    print(f"\n**5. Crecimiento promedio del PIB proyectado para 2026:** {avg_gdp_2026:.2f}%")
else:
    print("No hay proyecciones de crecimiento del PIB para 2026 en este dataset.")

print("\n### Graficas")

plt.figure(figsize=(14, 7))
sns.lineplot(data=df_gdp_cleaned_sorted, x='Año', y='Crecimiento_PIB_Anual_Pct', hue='Pais', marker='o')
plt.title('Tendencia del Crecimiento Anual del PIB por Pais')
plt.xlabel('Año')
plt.ylabel('Crecimiento del PIB Anual (%)')
plt.grid(True)
plt.xticks(df_gdp_cleaned_sorted['Año'].unique().astype(int))
plt.legend(title='Pais')
plt.tight_layout()
plt.show()

plt.figure(figsize=(10, 6))
sns.barplot(x='Crecimiento_PIB_Anual_Pct', y='Pais', data=avg_gdp_growth_by_country.sort_values(by='Crecimiento_PIB_Anual_Pct', ascending=False), palette='coolwarm')
plt.title('Crecimiento Promedio Anual del PIB por Pais')
plt.xlabel('Crecimiento Promedio del PIB (%)')
plt.ylabel('Pais')
plt.tight_layout()
plt.show()

plt.figure(figsize=(10, 6))
sns.histplot(df_gdp_cleaned_sorted['Crecimiento_PIB_Anual_Pct'], bins=10, kde=True)
plt.title('Distribucion de las Tasas de Crecimiento Anual del PIB')
plt.xlabel('Crecimiento del PIB Anual (%)')
plt.ylabel('Frecuencia')
plt.tight_layout()
plt.show()
