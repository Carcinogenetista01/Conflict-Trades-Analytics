
import pandas as pd
import numpy as np
import matplotlib.pyplot as plt
import seaborn as sns

# Extraccion y perfilado de datos

print("Cargando datos del Coeficiente de Gini...")
file_path_gini = 'OECD.WISE.INE,DSD_WISE_IDD@DF_IDD,1.0+TUR+GRC+ZAF+IND.A.INC_DISP_GINI..._T.METH2012.D_CUR..csv'

try:
    df_gini = pd.read_csv(file_path_gini)
    print(f"Datos de '{file_path_gini}' cargados con exito.")
except FileNotFoundError:
    print(f"Error: El archivo '{file_path_gini}' no fue encontrado. Asegurate de que este en la ruta correcta.")
    exit()

print("### Perfilado de Datos")
df_gini.info()
print(df_gini.head())
df_gini['OBS_VALUE'] = pd.to_numeric(df_gini['OBS_VALUE'], errors='coerce')
print(df_gini.describe())
print("Porcentaje de datos faltantes:\n", (df_gini.isnull().sum() / len(df_gini)) * 100)

print("\n### Deteccion de Patrones")
print("Patron: desigualdad (Gini) por pais y año.")

# Limpieza de datos

print("\n### Limpieza de Datos")

df_gini_cleaned = df_gini[['Reference area', 'TIME_PERIOD', 'OBS_VALUE']].copy()
df_gini_cleaned.rename(columns={
    'Reference area': 'Pais',
    'TIME_PERIOD': 'Año',
    'OBS_VALUE': 'Coeficiente_Gini'
}, inplace=True)

df_gini_cleaned.dropna(subset=['Coeficiente_Gini'], inplace=True)

Q1_gini = df_gini_cleaned['Coeficiente_Gini'].quantile(0.25)
Q3_gini = df_gini_cleaned['Coeficiente_Gini'].quantile(0.75)
IQR_gini = Q3_gini - Q1_gini
lower_bound_gini = Q1_gini - 1.5 * IQR_gini
upper_bound_gini = Q3_gini + 1.5 * IQR_gini

outliers_gini = df_gini_cleaned[
    (df_gini_cleaned['Coeficiente_Gini'] < lower_bound_gini) |
    (df_gini_cleaned['Coeficiente_Gini'] > upper_bound_gini)
]
if not outliers_gini.empty:
    print(f"Se detectaron {len(outliers_gini)} posibles outliers. No se eliminan; representan desigualdad real.")
    
df_gini_cleaned['Año'] = pd.to_numeric(df_gini_cleaned['Año'], errors='coerce').astype(int)
df_gini_cleaned['Coeficiente_Gini'] = pd.to_numeric(df_gini_cleaned['Coeficiente_Gini'], errors='coerce')
df_gini_cleaned['Pais'] = df_gini_cleaned['Pais'].str.strip()

initial_rows_gini = len(df_gini_cleaned)
df_gini_cleaned.drop_duplicates(inplace=True)
print(f"Se eliminaron {initial_rows_gini - len(df_gini_cleaned)} duplicados.")

# Preprocesamiento de datos

print("\n### Preprocesamiento de Datos")

df_gini_cleaned_sorted = df_gini_cleaned.sort_values(by=['Pais', 'Año'])
df_gini_cleaned_sorted['Cambio_Gini_Anual'] = df_gini_cleaned_sorted.groupby('Pais')['Coeficiente_Gini'].diff()
df_gini_cleaned_sorted['Cambio_Gini_Pct_Anual'] = df_gini_cleaned_sorted.groupby('Pais')['Coeficiente_Gini'].pct_change() * 100

# Analisis de datos

print("\n### Analisis de Datos")

print("#### Preguntas de Negocio")

print("\n**1. Coeficiente de Gini promedio por pais:**")
avg_gini_by_country = df_gini_cleaned_sorted.groupby('Pais')['Coeficiente_Gini'].mean().reset_index()
print(avg_gini_by_country.sort_values(by='Coeficiente_Gini', ascending=False).to_markdown(index=False))

print("\n**2. Evolucion del Coeficiente de Gini por pais a lo largo de los años:**")
gini_by_year_country = df_gini_cleaned_sorted.groupby(['Pais', 'Año'])['Coeficiente_Gini'].mean().unstack(fill_value=np.nan)
print(gini_by_year_country.to_markdown())

latest_year_gini = df_gini_cleaned_sorted['Año'].max()
print(f"\n**3. Pais con mayor/menor desigualdad en {latest_year_gini}:**")
gini_latest_year = df_gini_cleaned_sorted[df_gini_cleaned_sorted['Año'] == latest_year_gini]

if not gini_latest_year.empty:
    highest_gini_latest = gini_latest_year.loc[gini_latest_year['Coeficiente_Gini'].idxmax()]
    lowest_gini_latest = gini_latest_year.loc[gini_latest_year['Coeficiente_Gini'].idxmin()]
    print(f"Mayor desigualdad: {highest_gini_latest['Pais']} ({highest_gini_latest['Coeficiente_Gini']:.3f})")
    print(f"Menor desigualdad: {lowest_gini_latest['Pais']} ({lowest_gini_latest['Coeficiente_Gini']:.3f})")
else:
    print(f"No hay datos de Coeficiente de Gini para el año {latest_year_gini}.")

print(f"\n**4. Pais con mayor aumento/disminucion anual del Coeficiente de Gini:**")
df_gini_change = df_gini_cleaned_sorted.dropna(subset=['Cambio_Gini_Anual'])

if not df_gini_change.empty:
    max_increase_gini = df_gini_change.loc[df_gini_change['Cambio_Gini_Anual'].idxmax()]
    max_decrease_gini = df_gini_change.loc[df_gini_change['Cambio_Gini_Anual'].idxmin()]
    print(f"Mayor aumento: {max_increase_gini['Pais']} en {int(max_increase_gini['Año'])} (+{max_increase_gini['Cambio_Gini_Anual']:.3f} puntos)")
    print(f"Mayor disminucion: {max_decrease_gini['Pais']} en {int(max_decrease_gini['Año'])} ({max_decrease_gini['Cambio_Gini_Anual']:.3f} puntos)")
else:
    print("No hay suficientes datos para calcular el cambio en el Coeficiente de Gini.")

min_gini = df_gini_cleaned_sorted['Coeficiente_Gini'].min()
max_gini = df_gini_cleaned_sorted['Coeficiente_Gini'].max()
print(f"\n**5. Rango de Coeficientes de Gini observados:** Min={min_gini:.3f}, Max={max_gini:.3f}")

print("\n### Graficas")

plt.figure(figsize=(14, 7))
sns.lineplot(data=df_gini_cleaned_sorted, x='Año', y='Coeficiente_Gini', hue='Pais', marker='o')
plt.title('Tendencia del Coeficiente de Gini por Pais')
plt.xlabel('Año')
plt.ylabel('Coeficiente de Gini (0-1)')
plt.grid(True)
plt.xticks(df_gini_cleaned_sorted['Año'].unique().astype(int))
plt.legend(title='Pais')
plt.tight_layout()
plt.show()

plt.figure(figsize=(10, 6))
sns.barplot(x='Coeficiente_Gini', y='Pais', data=avg_gini_by_country.sort_values(by='Coeficiente_Gini', ascending=False), palette='viridis')
plt.title('Coeficiente de Gini Promedio por Pais')
plt.xlabel('Coeficiente de Gini Promedio')
plt.ylabel('Pais')
plt.tight_layout()
plt.show()

plt.figure(figsize=(10, 6))
sns.histplot(df_gini_cleaned_sorted['Coeficiente_Gini'], bins=10, kde=True)
plt.title('Distribucion de los Coeficientes de Gini')
plt.xlabel('Coeficiente de Gini')
plt.ylabel('Frecuencia')
plt.tight_layout()
plt.show()
