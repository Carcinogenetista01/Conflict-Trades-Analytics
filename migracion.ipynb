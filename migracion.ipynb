import pandas as pd
import numpy as np
import matplotlib.pyplot as plt
import seaborn as sns

# Extraccion y perfilado de datos

print("Cargando datos de migracion...")
file_path = 'OECD.ELS.IMD,DSD_MIG@DF_MIG,1.0+TUR+ISR..A.B11._T....csv'

try:
    df = pd.read_csv(file_path)
    print(f"Datos de '{file_path}' cargados con exito.")
except FileNotFoundError:
    print(f"Error: El archivo '{file_path}' no fue encontrado. Asegurate de que este en la ruta correcta.")
    # El script termina si el archivo no se encuentra.
    exit()

print("### Perfilado de Datos")
df.info()
print(df.head())
df['OBS_VALUE'] = pd.to_numeric(df['OBS_VALUE'], errors='coerce')
print(df.describe())
print("Porcentaje de datos faltantes:\n", (df.isnull().sum() / len(df)) * 100)

print("\n### Deteccion de Patrones")
print("Patron: migrantes por año, pais de destino y origen.")

# Limpieza de datos

print("\n### Limpieza de Datos")

df_cleaned = df[['Reference area', 'Citizenship', 'TIME_PERIOD', 'OBS_VALUE']].copy()
df_cleaned.rename(columns={
    'Reference area': 'Pais_Destino',
    'Citizenship': 'Pais_Origen',
    'TIME_PERIOD': 'Año',
    'OBS_VALUE': 'Valor_Migracion'
}, inplace=True)

df_cleaned.dropna(subset=['Valor_Migracion'], inplace=True)

Q1 = df_cleaned['Valor_Migracion'].quantile(0.25)
Q3 = df_cleaned['Valor_Migracion'].quantile(0.75)
IQR = Q3 - Q1
lower_bound = Q1 - 1.5 * IQR
upper_bound = Q3 + 1.5 * IQR

outliers = df_cleaned[(df_cleaned['Valor_Migracion'] < lower_bound) | (df_cleaned['Valor_Migracion'] > upper_bound)]
if not outliers.empty:
    print(f"Se detectaron {len(outliers)} posibles outliers. No se eliminan, suelen ser valores reales.")
    
df_cleaned['Año'] = pd.to_numeric(df_cleaned['Año'], errors='coerce').astype(int)
df_cleaned['Valor_Migracion'] = pd.to_numeric(df_cleaned['Valor_Migracion'], errors='coerce')
df_cleaned['Pais_Destino'] = df_cleaned['Pais_Destino'].str.strip()
df_cleaned['Pais_Origen'] = df_cleaned['Pais_Origen'].str.strip()

initial_rows = len(df_cleaned)
df_cleaned.drop_duplicates(inplace=True)
print(f"Se eliminaron {initial_rows - len(df_cleaned)} duplicados.")

# Preprocesamiento de datos

print("\n### Preprocesamiento de Datos")

df_cleaned_sorted = df_cleaned.sort_values(by=['Pais_Destino', 'Pais_Origen', 'Año'])
df_cleaned_sorted['Cambio_Porcentual_Migracion'] = df_cleaned_sorted.groupby(['Pais_Destino', 'Pais_Origen'])['Valor_Migracion'].pct_change() * 100

# Analisis de datos

print("\n### Analisis de Datos")

print("#### Preguntas de Negocio")

print("\n**1. Promedio de migrantes por pais de destino:**")
avg_migration_by_destination = df_cleaned_sorted.groupby('Pais_Destino')['Valor_Migracion'].mean().reset_index()
print(avg_migration_by_destination.sort_values(by='Valor_Migracion', ascending=False).to_markdown(index=False))

print("\n**2. Evolucion de la migracion por pais de destino a lo largo de los años:**")
migration_by_year_destination = df_cleaned_sorted.groupby(['Pais_Destino', 'Año'])['Valor_Migracion'].sum().unstack(fill_value=0)
print(migration_by_year_destination.to_markdown())

year_to_analyze = 2022
print(f"\n**3. Pais con mas/menos migrantes en {year_to_analyze}:**")
migration_year = df_cleaned_sorted[df_cleaned_sorted['Año'] == year_to_analyze].groupby('Pais_Destino')['Valor_Migracion'].sum().reset_index()
if not migration_year.empty:
    highest_migration = migration_year.loc[migration_year['Valor_Migracion'].idxmax()]
    lowest_migration = migration_year.loc[migration_year['Valor_Migracion'].idxmin()]
    print(f"Mas migrantes: {highest_migration['Pais_Destino']} ({highest_migration['Valor_Migracion']} personas)")
    print(f"Menos migrantes: {lowest_migration['Pais_Destino']} ({lowest_migration['Valor_Migracion']} personas)")
else:
    print(f"No hay datos de migracion para el año {year_to_analyze}.")

year_for_change = 2022
print(f"\n**4. Flujos con mayor cambio porcentual en {year_for_change}:**")
df_change_year = df_cleaned_sorted[df_cleaned_sorted['Año'] == year_for_change].dropna(subset=['Cambio_Porcentual_Migracion'])
if not df_change_year.empty:
    max_increase = df_change_year.loc[df_change_year['Cambio_Porcentual_Migracion'].idxmax()]
    max_decrease = df_change_year.loc[df_change_year['Cambio_Porcentual_Migracion'].idxmin()]
    print(f"Mayor subida: De {max_increase['Pais_Origen']} a {max_increase['Pais_Destino']} (+{max_increase['Cambio_Porcentual_Migracion']:.2f}%)")
    print(f"Mayor bajada: De {max_decrease['Pais_Origen']} a {max_decrease['Pais_Destino']} ({max_decrease['Cambio_Porcentual_Migracion']:.2f}%)")
else:
    print(f"No hay datos de cambios porcentuales para el año {year_for_change}.")

latest_year = df_cleaned_sorted['Año'].max()
print(f"\n**5. Top 5 paises de origen para Israel y Turquia en {latest_year}:**")
for pais_destino in ['Israel', 'Türkiye']:
    top_origins = df_cleaned_sorted[
        (df_cleaned_sorted['Pais_Destino'] == pais_destino) &
        (df_cleaned_sorted['Año'] == latest_year)
    ].groupby('Pais_Origen')['Valor_Migracion'].sum().nlargest(5).reset_index()
    print(f"\nPara {pais_destino}:")
    print(top_origins.to_markdown(index=False))

print("\n### Graficas")

plt.figure(figsize=(12, 6))
sns.lineplot(data=df_cleaned_sorted[df_cleaned_sorted['Pais_Destino'].isin(['Israel', 'Türkiye'])],
             x='Año', y='Valor_Migracion', hue='Pais_Destino', marker='o', estimator='sum', errorbar=None)
plt.title('Tendencia de Migracion (Entradas) a Israel y Turquia')
plt.xlabel('Año')
plt.ylabel('Numero de Migrantes')
plt.grid(True)
plt.xticks(df_cleaned_sorted['Año'].unique().astype(int))
plt.legend(title='Pais de Destino')
plt.tight_layout()
plt.show()

plt.figure(figsize=(10, 6))
sns.histplot(df_cleaned_sorted['Valor_Migracion'], bins=30, kde=True)
plt.title('Distribucion de los Numeros de Migracion')
plt.xlabel('Numero de Migrantes')
plt.ylabel('Frecuencia')
plt.tight_layout()
plt.show()

plt.figure(figsize=(14, 7))
latest_year_israel = df_cleaned_sorted['Año'].max()
top_10_israel_origin = df_cleaned_sorted[
    (df_cleaned_sorted['Pais_Destino'] == 'Israel') &
    (df_cleaned_sorted['Año'] == latest_year_israel)
].groupby('Pais_Origen')['Valor_Migracion'].sum().nlargest(10).reset_index()

sns.barplot(x='Valor_Migracion', y='Pais_Origen', data=top_10_israel_origin, palette='viridis')
plt.title(f'Top 10 Paises de Origen para Migracion a Israel en {latest_year_israel}')
plt.xlabel('Numero de Migrantes')
plt.ylabel('Pais de Origen')
plt.tight_layout()
plt.show()

plt.figure(figsize=(14, 7))
latest_year_turkey = df_cleaned_sorted['Año'].max()
top_10_turkey_origin = df_cleaned_sorted[
    (df_cleaned_sorted['Pais_Destino'] == 'Türkiye') &
    (df_cleaned_sorted['Año'] == latest_year_turkey)
].groupby('Pais_Origen')['Valor_Migracion'].sum().nlargest(10).reset_index()

sns.barplot(x='Valor_Migracion', y='Pais_Origen', data=top_10_turkey_origin, palette='magma')
plt.title(f'Top 10 Paises de Origen para Migracion a Turquia en {latest_year_turkey}')
plt.xlabel('Numero de Migrantes')
plt.ylabel('Pais de Origen')
plt.tight_layout()
plt.show()

